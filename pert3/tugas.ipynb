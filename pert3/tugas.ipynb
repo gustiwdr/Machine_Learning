{
 "cells": [
  {
   "cell_type": "markdown",
   "metadata": {},
   "source": [
    "IMPORT LIBRARY YANG DIGUNAKAN"
   ]
  },
  {
   "cell_type": "code",
   "execution_count": 1,
   "metadata": {},
   "outputs": [],
   "source": [
    "import matplotlib.pyplot as plt\n",
    "import pandas as pd"
   ]
  },
  {
   "cell_type": "markdown",
   "metadata": {},
   "source": [
    "PEMANGGILAN DATASET"
   ]
  },
  {
   "cell_type": "code",
   "execution_count": 21,
   "metadata": {},
   "outputs": [
    {
     "name": "stdout",
     "output_type": "stream",
     "text": [
      "   transaction_id            timestamp  amount currency    merchant  \\\n",
      "0               1  2024-04-01 08:12:45    50.0      USD   Starbucks   \n",
      "1               2  2024-04-01 12:30:18    25.0      USD     Walmart   \n",
      "2               3  2024-04-02 14:55:37     NaN      USD      Amazon   \n",
      "3               4  2024-04-03 09:20:04    75.0      USD     Netflix   \n",
      "4               5  2024-04-03 13:45:22    20.0      USD  McDonald's   \n",
      "5               6  2024-04-04 18:10:50    45.0      USD      Target   \n",
      "6               7  2024-04-05 10:05:15    60.0      USD       Shell   \n",
      "7               8  2024-04-05 15:30:42     NaN      USD       Apple   \n",
      "8               9  2024-04-06 09:40:27    35.0      USD   Starbucks   \n",
      "9              10  2024-04-06 12:15:55    50.0      USD      Amazon   \n",
      "\n",
      "          category  \n",
      "0              NaN  \n",
      "1        Groceries  \n",
      "2  Online Shopping  \n",
      "3              NaN  \n",
      "4             Food  \n",
      "5         Shopping  \n",
      "6              Gas  \n",
      "7      Electronics  \n",
      "8           Coffee  \n",
      "9  Online Shopping  \n"
     ]
    }
   ],
   "source": [
    "dataset = pd.read_csv('pert3.csv')\n",
    "print(dataset)"
   ]
  },
  {
   "cell_type": "markdown",
   "metadata": {},
   "source": [
    "MENAMPILKAN HANYA AMOUNT DAN CANTEGORY"
   ]
  },
  {
   "cell_type": "code",
   "execution_count": 28,
   "metadata": {},
   "outputs": [
    {
     "name": "stdout",
     "output_type": "stream",
     "text": [
      "   amount         category\n",
      "0    50.0              NaN\n",
      "1    25.0        Groceries\n",
      "2     NaN  Online Shopping\n",
      "3    75.0              NaN\n",
      "4    20.0             Food\n",
      "5    45.0         Shopping\n",
      "6    60.0              Gas\n",
      "7     NaN      Electronics\n",
      "8    35.0           Coffee\n",
      "9    50.0  Online Shopping\n"
     ]
    }
   ],
   "source": [
    "dataset_subset = dataset[['amount', 'category']]\n",
    "print(dataset_subset)"
   ]
  },
  {
   "cell_type": "markdown",
   "metadata": {},
   "source": [
    "MENGHAPUS NILAI KOSONG DARI DATASET"
   ]
  },
  {
   "cell_type": "code",
   "execution_count": 32,
   "metadata": {},
   "outputs": [
    {
     "name": "stderr",
     "output_type": "stream",
     "text": [
      "/tmp/ipykernel_23303/1312454547.py:1: SettingWithCopyWarning: \n",
      "A value is trying to be set on a copy of a slice from a DataFrame\n",
      "\n",
      "See the caveats in the documentation: https://pandas.pydata.org/pandas-docs/stable/user_guide/indexing.html#returning-a-view-versus-a-copy\n",
      "  dataset_subset.dropna(inplace=True)\n"
     ]
    }
   ],
   "source": [
    "dataset_subset.dropna(inplace=True)"
   ]
  },
  {
   "cell_type": "code",
   "execution_count": 33,
   "metadata": {},
   "outputs": [
    {
     "name": "stdout",
     "output_type": "stream",
     "text": [
      "   amount         category\n",
      "1    25.0        Groceries\n",
      "4    20.0             Food\n",
      "5    45.0         Shopping\n",
      "6    60.0              Gas\n",
      "8    35.0           Coffee\n",
      "9    50.0  Online Shopping\n"
     ]
    }
   ],
   "source": [
    "print(dataset_subset)"
   ]
  }
 ],
 "metadata": {
  "kernelspec": {
   "display_name": "Python 3",
   "language": "python",
   "name": "python3"
  },
  "language_info": {
   "codemirror_mode": {
    "name": "ipython",
    "version": 3
   },
   "file_extension": ".py",
   "mimetype": "text/x-python",
   "name": "python",
   "nbconvert_exporter": "python",
   "pygments_lexer": "ipython3",
   "version": "3.10.12"
  }
 },
 "nbformat": 4,
 "nbformat_minor": 2
}
